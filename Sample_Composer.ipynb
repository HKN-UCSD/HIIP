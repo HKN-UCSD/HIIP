{
 "cells": [
  {
   "cell_type": "code",
   "execution_count": 1,
   "metadata": {},
   "outputs": [],
   "source": [
    "import pandas as pd\n",
    "import random"
   ]
  },
  {
   "cell_type": "code",
   "execution_count": 2,
   "metadata": {},
   "outputs": [],
   "source": [
    "# Constants\n",
    "OUTPUT_FILE_PATH = '.\\\\data\\\\sample\\\\sample_1.xlsx'\n",
    "TOTAL_ROWS = 100\n",
    "\n",
    "NAMES_FILE_PATH = '.\\\\data\\\\resources\\\\names.csv'\n",
    "\n",
    "COLUMNS = ['First Name', 'Last Name', 'Class Standing', 'Cum GPA', 'Major Code', 'Dept']\n",
    "DEPTS = ['CSE', 'ECE', 'MATH', 'BENG']\n",
    "CLASS_STANDINGS = ['SO', 'JR', 'SR']\n",
    "DEPTS_MAJORS = dict()  # bit of a faux-pas...\n",
    "DEPTS_MAJORS['CSE'] = ['CS25', 'CS26', 'CS27', 'CS28']\n",
    "DEPTS_MAJORS['ECE'] = ['EC26', 'EC27', 'EC28']\n",
    "DEPTS_MAJORS['MATH'] = ['MA30']\n",
    "DEPTS_MAJORS['BENG'] = ['BE25', 'BE26', 'BE27', 'BE28']\n",
    "NAMES = pd.read_csv(NAMES_FILE_PATH, header=None).T.values[0]"
   ]
  },
  {
   "cell_type": "code",
   "execution_count": 3,
   "metadata": {},
   "outputs": [
    {
     "data": {
      "text/html": [
       "<div>\n",
       "<style scoped>\n",
       "    .dataframe tbody tr th:only-of-type {\n",
       "        vertical-align: middle;\n",
       "    }\n",
       "\n",
       "    .dataframe tbody tr th {\n",
       "        vertical-align: top;\n",
       "    }\n",
       "\n",
       "    .dataframe thead th {\n",
       "        text-align: right;\n",
       "    }\n",
       "</style>\n",
       "<table border=\"1\" class=\"dataframe\">\n",
       "  <thead>\n",
       "    <tr style=\"text-align: right;\">\n",
       "      <th></th>\n",
       "      <th>First Name</th>\n",
       "      <th>Last Name</th>\n",
       "      <th>Class Standing</th>\n",
       "      <th>Cum GPA</th>\n",
       "      <th>Major Code</th>\n",
       "      <th>Dept</th>\n",
       "    </tr>\n",
       "  </thead>\n",
       "  <tbody>\n",
       "    <tr>\n",
       "      <th>0</th>\n",
       "      <td>Martha</td>\n",
       "      <td>John</td>\n",
       "      <td>SO</td>\n",
       "      <td>1.99339</td>\n",
       "      <td>CS25</td>\n",
       "      <td>CSE</td>\n",
       "    </tr>\n",
       "    <tr>\n",
       "      <th>1</th>\n",
       "      <td>Thomas</td>\n",
       "      <td>Jennifer</td>\n",
       "      <td>SO</td>\n",
       "      <td>2.81333</td>\n",
       "      <td>BE25</td>\n",
       "      <td>BENG</td>\n",
       "    </tr>\n",
       "    <tr>\n",
       "      <th>2</th>\n",
       "      <td>Johnny</td>\n",
       "      <td>Heather</td>\n",
       "      <td>SO</td>\n",
       "      <td>0.18897</td>\n",
       "      <td>MA30</td>\n",
       "      <td>MATH</td>\n",
       "    </tr>\n",
       "    <tr>\n",
       "      <th>3</th>\n",
       "      <td>Beverly</td>\n",
       "      <td>Michelle</td>\n",
       "      <td>SR</td>\n",
       "      <td>0.71435</td>\n",
       "      <td>CS25</td>\n",
       "      <td>CSE</td>\n",
       "    </tr>\n",
       "    <tr>\n",
       "      <th>4</th>\n",
       "      <td>Austin</td>\n",
       "      <td>Christine</td>\n",
       "      <td>JR</td>\n",
       "      <td>2.12224</td>\n",
       "      <td>EC28</td>\n",
       "      <td>ECE</td>\n",
       "    </tr>\n",
       "  </tbody>\n",
       "</table>\n",
       "</div>"
      ],
      "text/plain": [
       "  First Name  Last Name Class Standing  Cum GPA Major Code  Dept\n",
       "0     Martha       John             SO  1.99339       CS25   CSE\n",
       "1     Thomas   Jennifer             SO  2.81333       BE25  BENG\n",
       "2     Johnny    Heather             SO  0.18897       MA30  MATH\n",
       "3    Beverly   Michelle             SR  0.71435       CS25   CSE\n",
       "4     Austin  Christine             JR  2.12224       EC28   ECE"
      ]
     },
     "execution_count": 3,
     "metadata": {},
     "output_type": "execute_result"
    }
   ],
   "source": [
    "# Get randomized rows\n",
    "rows_list = list()\n",
    "for i in range(TOTAL_ROWS):\n",
    "    row = dict()\n",
    "    row['First Name'] = random.choice(NAMES)\n",
    "    row['Last Name'] = random.choice(NAMES)\n",
    "    row['Dept'] = random.choice(DEPTS)\n",
    "    row['Major Code'] = random.choice(DEPTS_MAJORS[row['Dept']])\n",
    "    row['Class Standing'] = random.choice(CLASS_STANDINGS)\n",
    "    row['Cum GPA'] = round(random.random() * 4, 5)\n",
    "    rows_list.append(row)\n",
    "\n",
    "# Create DF\n",
    "df = pd.DataFrame(rows_list, columns=COLUMNS)\n",
    "\n",
    "# View DF\n",
    "df.head()"
   ]
  },
  {
   "cell_type": "code",
   "execution_count": 4,
   "metadata": {},
   "outputs": [],
   "source": [
    "# Output DF\n",
    "df.to_excel(OUTPUT_FILE_PATH)"
   ]
  }
 ],
 "metadata": {
  "kernelspec": {
   "display_name": "Python 3",
   "language": "python",
   "name": "python3"
  },
  "language_info": {
   "codemirror_mode": {
    "name": "ipython",
    "version": 3
   },
   "file_extension": ".py",
   "mimetype": "text/x-python",
   "name": "python",
   "nbconvert_exporter": "python",
   "pygments_lexer": "ipython3",
   "version": "3.7.3"
  }
 },
 "nbformat": 4,
 "nbformat_minor": 2
}
