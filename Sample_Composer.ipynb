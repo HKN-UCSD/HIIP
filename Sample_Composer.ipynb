{
 "cells": [
  {
   "cell_type": "code",
   "execution_count": null,
   "metadata": {},
   "outputs": [],
   "source": [
    "import pandas as pd\n",
    "import random\n",
    "import Constants"
   ]
  },
  {
   "cell_type": "code",
   "execution_count": null,
   "metadata": {},
   "outputs": [],
   "source": [
    "# Constants\n",
    "OUTPUT_FILE_PATH = '.\\\\data\\\\sample\\\\sample_1.xlsx'\n",
    "TOTAL_ROWS = 100\n",
    "\n",
    "NAMES_FILE_PATH = '.\\\\data\\\\resources\\\\names.csv'\n",
    "\n",
    "NAMES = pd.read_csv(NAMES_FILE_PATH, header=None).T.values[0]"
   ]
  },
  {
   "cell_type": "code",
   "execution_count": null,
   "metadata": {},
   "outputs": [],
   "source": [
    "# Get randomized rows\n",
    "rows_list = list()\n",
    "for i in range(TOTAL_ROWS):\n",
    "    row = dict()\n",
    "    row['First Name'] = random.choice(Constants.NAMES)\n",
    "    row['Last Name'] = random.choice(Constants.NAMES)\n",
    "    row['Dept'] = random.choice(Constants.DEPTS)\n",
    "    row['Major Code'] = random.choice(Constants.DEPTS_MAJORS[row['Dept']])\n",
    "    row['Class Standing'] = random.choice(Constants.CLASS_STANDINGS)\n",
    "    row['Cum GPA'] = round(random.random() * 4, 5)\n",
    "    rows_list.append(row)\n",
    "\n",
    "# Create DF\n",
    "df = pd.DataFrame(rows_list, columns=Constants.COLUMNS)\n",
    "\n",
    "# View DF\n",
    "df.head()"
   ]
  },
  {
   "cell_type": "code",
   "execution_count": null,
   "metadata": {},
   "outputs": [],
   "source": [
    "# Output DF\n",
    "df.to_excel(OUTPUT_FILE_PATH, index=False)"
   ]
  },
  {
   "cell_type": "code",
   "execution_count": null,
   "metadata": {},
   "outputs": [],
   "source": []
  }
 ],
 "metadata": {
  "kernelspec": {
   "display_name": "Python 3",
   "language": "python",
   "name": "python3"
  },
  "language_info": {
   "codemirror_mode": {
    "name": "ipython",
    "version": 3
   },
   "file_extension": ".py",
   "mimetype": "text/x-python",
   "name": "python",
   "nbconvert_exporter": "python",
   "pygments_lexer": "ipython3",
   "version": "3.7.3"
  }
 },
 "nbformat": 4,
 "nbformat_minor": 2
}
