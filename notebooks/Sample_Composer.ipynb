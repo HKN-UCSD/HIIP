{
 "cells": [
  {
   "cell_type": "code",
   "execution_count": 1,
   "metadata": {},
   "outputs": [],
   "source": [
    "import pandas as pd\n",
    "import random\n",
    "import Constants"
   ]
  },
  {
   "cell_type": "code",
   "execution_count": 2,
   "metadata": {},
   "outputs": [],
   "source": [
    "# Constants\n",
    "OUTPUT_FILE_PATH = '.\\\\data\\\\sample\\\\sample_1.xlsx'\n",
    "TOTAL_ROWS = 1000\n",
    "\n",
    "NAMES_FILE_PATH = '.\\\\data\\\\resources\\\\names.csv'\n",
    "\n",
    "NAMES = pd.read_csv(NAMES_FILE_PATH, header=None).T.values[0]"
   ]
  },
  {
   "cell_type": "code",
   "execution_count": 4,
   "metadata": {},
   "outputs": [
    {
     "data": {
      "text/html": [
       "<div>\n",
       "<style scoped>\n",
       "    .dataframe tbody tr th:only-of-type {\n",
       "        vertical-align: middle;\n",
       "    }\n",
       "\n",
       "    .dataframe tbody tr th {\n",
       "        vertical-align: top;\n",
       "    }\n",
       "\n",
       "    .dataframe thead th {\n",
       "        text-align: right;\n",
       "    }\n",
       "</style>\n",
       "<table border=\"1\" class=\"dataframe\">\n",
       "  <thead>\n",
       "    <tr style=\"text-align: right;\">\n",
       "      <th></th>\n",
       "      <th>First Name</th>\n",
       "      <th>Last Name</th>\n",
       "      <th>Class Standing</th>\n",
       "      <th>Cum GPA</th>\n",
       "      <th>Major Code</th>\n",
       "      <th>Dept</th>\n",
       "      <th>Email</th>\n",
       "    </tr>\n",
       "  </thead>\n",
       "  <tbody>\n",
       "    <tr>\n",
       "      <th>0</th>\n",
       "      <td>Mary</td>\n",
       "      <td>Lauren</td>\n",
       "      <td>SO</td>\n",
       "      <td>3.16856</td>\n",
       "      <td>BE26</td>\n",
       "      <td>BENG</td>\n",
       "      <td>maryl@ucsd.edu</td>\n",
       "    </tr>\n",
       "    <tr>\n",
       "      <th>1</th>\n",
       "      <td>Teresa</td>\n",
       "      <td>Shirley</td>\n",
       "      <td>SR</td>\n",
       "      <td>2.22310</td>\n",
       "      <td>CS26</td>\n",
       "      <td>CSE</td>\n",
       "      <td>teresas@ucsd.edu</td>\n",
       "    </tr>\n",
       "    <tr>\n",
       "      <th>2</th>\n",
       "      <td>Amber</td>\n",
       "      <td>Victoria</td>\n",
       "      <td>SR</td>\n",
       "      <td>1.12008</td>\n",
       "      <td>MA30</td>\n",
       "      <td>MATH</td>\n",
       "      <td>amberv@ucsd.edu</td>\n",
       "    </tr>\n",
       "    <tr>\n",
       "      <th>3</th>\n",
       "      <td>Zachary</td>\n",
       "      <td>Judith</td>\n",
       "      <td>SO</td>\n",
       "      <td>2.16654</td>\n",
       "      <td>BE25</td>\n",
       "      <td>BENG</td>\n",
       "      <td>zacharyj@ucsd.edu</td>\n",
       "    </tr>\n",
       "    <tr>\n",
       "      <th>4</th>\n",
       "      <td>Brandon</td>\n",
       "      <td>Susan</td>\n",
       "      <td>SR</td>\n",
       "      <td>1.11140</td>\n",
       "      <td>BE25</td>\n",
       "      <td>BENG</td>\n",
       "      <td>brandons@ucsd.edu</td>\n",
       "    </tr>\n",
       "  </tbody>\n",
       "</table>\n",
       "</div>"
      ],
      "text/plain": [
       "  First Name Last Name Class Standing  Cum GPA Major Code  Dept  \\\n",
       "0       Mary    Lauren             SO  3.16856       BE26  BENG   \n",
       "1     Teresa   Shirley             SR  2.22310       CS26   CSE   \n",
       "2      Amber  Victoria             SR  1.12008       MA30  MATH   \n",
       "3    Zachary    Judith             SO  2.16654       BE25  BENG   \n",
       "4    Brandon     Susan             SR  1.11140       BE25  BENG   \n",
       "\n",
       "               Email  \n",
       "0     maryl@ucsd.edu  \n",
       "1   teresas@ucsd.edu  \n",
       "2    amberv@ucsd.edu  \n",
       "3  zacharyj@ucsd.edu  \n",
       "4  brandons@ucsd.edu  "
      ]
     },
     "execution_count": 4,
     "metadata": {},
     "output_type": "execute_result"
    }
   ],
   "source": [
    "# Get randomized rows\n",
    "rows_list = list()\n",
    "for i in range(TOTAL_ROWS):\n",
    "    row = dict()\n",
    "    row['First Name'] = random.choice(NAMES)\n",
    "    row['Last Name'] = random.choice(NAMES)\n",
    "    row['Dept'] = random.choice(Constants.DEPTS)\n",
    "    row['Major Code'] = random.choice(Constants.DEPTS_MAJORS[row['Dept']])\n",
    "    row['Class Standing'] = random.choice(Constants.CLASS_STANDINGS)\n",
    "    row['Cum GPA'] = round(random.random() * 4, 5)\n",
    "    row['Email'] = row['First Name'].lower() + row['Last Name'][0].lower() + '@ucsd.edu'\n",
    "    rows_list.append(row)\n",
    "\n",
    "# Create DF\n",
    "df = pd.DataFrame(rows_list, columns=Constants.COLUMNS)\n",
    "\n",
    "# View DF\n",
    "df.head()"
   ]
  },
  {
   "cell_type": "code",
   "execution_count": 5,
   "metadata": {},
   "outputs": [],
   "source": [
    "# Output DF\n",
    "df.to_excel(OUTPUT_FILE_PATH, index=False)"
   ]
  },
  {
   "cell_type": "code",
   "execution_count": null,
   "metadata": {},
   "outputs": [],
   "source": []
  }
 ],
 "metadata": {
  "kernelspec": {
   "display_name": "Python 3",
   "language": "python",
   "name": "python3"
  },
  "language_info": {
   "codemirror_mode": {
    "name": "ipython",
    "version": 3
   },
   "file_extension": ".py",
   "mimetype": "text/x-python",
   "name": "python",
   "nbconvert_exporter": "python",
   "pygments_lexer": "ipython3",
   "version": "3.7.3"
  }
 },
 "nbformat": 4,
 "nbformat_minor": 2
}
